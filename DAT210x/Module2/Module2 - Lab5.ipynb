{
 "cells": [
  {
   "cell_type": "markdown",
   "metadata": {},
   "source": [
    "# DAT210x - Programming with Python for DS"
   ]
  },
  {
   "cell_type": "markdown",
   "metadata": {},
   "source": [
    "## Module2 - Lab5"
   ]
  },
  {
   "cell_type": "markdown",
   "metadata": {
    "collapsed": true
   },
   "source": [
    "Import and alias Pandas:"
   ]
  },
  {
   "cell_type": "code",
   "execution_count": 2,
   "metadata": {
    "collapsed": true
   },
   "outputs": [],
   "source": [
    "import pandas as pd\n",
    "import numpy as np"
   ]
  },
  {
   "cell_type": "markdown",
   "metadata": {},
   "source": [
    "As per usual, load up the specified dataset, setting appropriate header labels."
   ]
  },
  {
   "cell_type": "code",
   "execution_count": 8,
   "metadata": {},
   "outputs": [
    {
     "name": "stdout",
     "output_type": "stream",
     "text": [
      "          education  age capital-gain                race  capital-loss  \\\n",
      "0         Bachelors   39         2174               White           NaN   \n",
      "1         Bachelors   50            ?               White           NaN   \n",
      "2           HS-grad   38            ?               White           NaN   \n",
      "3              11th   53            ?               Black           NaN   \n",
      "4         Bachelors   28            0               Black           NaN   \n",
      "5           Masters   37            0               White           NaN   \n",
      "6               9th   49            0               Black           NaN   \n",
      "7           HS-grad   52            0               White           NaN   \n",
      "8           Masters   31        14084               White           NaN   \n",
      "9         Bachelors   42         5178               White           NaN   \n",
      "10     Some-college   37            0               Black           NaN   \n",
      "11        Bachelors   30            0  Asian-Pac-Islander           NaN   \n",
      "12        Bachelors   23            0               White           NaN   \n",
      "13          7th-8th   34            0  Amer-Indian-Eskimo           NaN   \n",
      "14          HS-grad   25            0               White           NaN   \n",
      "15          HS-grad   32            0               White           NaN   \n",
      "16             11th   38            0               White           NaN   \n",
      "17          Masters   43            0               White           NaN   \n",
      "18        Doctorate   40            0               White           NaN   \n",
      "19          HS-grad   54            0               Black           NaN   \n",
      "20              9th   35            0               Black           NaN   \n",
      "21             11th   43            0               White        2042.0   \n",
      "22          HS-grad   59            0               White           NaN   \n",
      "23        Bachelors   56            0               White           NaN   \n",
      "24          HS-grad   19            0               White           NaN   \n",
      "25     Some-college   54            0  Asian-Pac-Islander           NaN   \n",
      "26          HS-grad   39            0               White           NaN   \n",
      "27          HS-grad   49            0               White           NaN   \n",
      "28     Some-college   20            0               Black           NaN   \n",
      "29        Bachelors   45            0               White        1408.0   \n",
      "...             ...  ...          ...                 ...           ...   \n",
      "29506       HS-grad   30            0               White           NaN   \n",
      "29507          10th   32            0               White           NaN   \n",
      "29508  Some-college   22            0               White           NaN   \n",
      "29509       HS-grad   31            0               White           NaN   \n",
      "29510       HS-grad   29            0               White           NaN   \n",
      "29511     Bachelors   35            0               White           NaN   \n",
      "29512     Bachelors   30            0  Asian-Pac-Islander           NaN   \n",
      "29513     Doctorate   34            0               White           NaN   \n",
      "29514     Bachelors   54            0  Asian-Pac-Islander           NaN   \n",
      "29515  Some-college   37            0               White           NaN   \n",
      "29516          12th   22            0               Black           NaN   \n",
      "29517     Bachelors   34            0               White           NaN   \n",
      "29518       HS-grad   30            0               Black           NaN   \n",
      "29519     Bachelors   38        15020               Black           NaN   \n",
      "29520     Doctorate   71            0               White           NaN   \n",
      "29521       HS-grad   45            0               White           NaN   \n",
      "29522       HS-grad   41            0               Black           NaN   \n",
      "29523       HS-grad   72            0               White           NaN   \n",
      "29524       Masters   31            0               Other           NaN   \n",
      "29525       HS-grad   43            0               White           NaN   \n",
      "29526  Some-college   43            0               White           NaN   \n",
      "29527  Some-college   43            0               White           NaN   \n",
      "29528          10th   32            0  Amer-Indian-Eskimo           NaN   \n",
      "29529       Masters   32            0  Asian-Pac-Islander           NaN   \n",
      "29530       Masters   53            0               White           NaN   \n",
      "29531  Some-college   22            0               White           NaN   \n",
      "29532       HS-grad   40            0               White           NaN   \n",
      "29533       HS-grad   58            0               White           NaN   \n",
      "29534       HS-grad   22            0               White           NaN   \n",
      "29535       HS-grad   52        15024               White           NaN   \n",
      "\n",
      "       hours-per-week     sex classification  \n",
      "0                  40    Male          <=50K  \n",
      "1                  13    Male          <=50K  \n",
      "2                  40    Male          <=50K  \n",
      "3                  40    Male          <=50K  \n",
      "4                  40  Female          <=50K  \n",
      "5                  40  Female          <=50K  \n",
      "6                  16  Female          <=50K  \n",
      "7                  45    Male           >50K  \n",
      "8                  50  Female           >50K  \n",
      "9                  40    Male           >50K  \n",
      "10                 80    Male           >50K  \n",
      "11                 40    Male           >50K  \n",
      "12                 30  Female          <=50K  \n",
      "13                 45    Male          <=50K  \n",
      "14                 35    Male          <=50K  \n",
      "15                 40    Male          <=50K  \n",
      "16                 50    Male          <=50K  \n",
      "17                 45  Female           >50K  \n",
      "18                 60    Male           >50K  \n",
      "19                 20  Female          <=50K  \n",
      "20                 40    Male          <=50K  \n",
      "21                 40    Male          <=50K  \n",
      "22                 40  Female          <=50K  \n",
      "23                 40    Male           >50K  \n",
      "24                 40    Male          <=50K  \n",
      "25                 60    Male           >50K  \n",
      "26                 80    Male          <=50K  \n",
      "27                 40    Male          <=50K  \n",
      "28                 44    Male          <=50K  \n",
      "29                 40    Male          <=50K  \n",
      "...               ...     ...            ...  \n",
      "29506              55    Male          <=50K  \n",
      "29507              40    Male          <=50K  \n",
      "29508              40    Male          <=50K  \n",
      "29509              40  Female          <=50K  \n",
      "29510              35  Female          <=50K  \n",
      "29511              55  Female           >50K  \n",
      "29512              99  Female          <=50K  \n",
      "29513              60    Male           >50K  \n",
      "29514              50    Male           >50K  \n",
      "29515              39  Female          <=50K  \n",
      "29516              35    Male          <=50K  \n",
      "29517              55  Female           >50K  \n",
      "29518              46    Male          <=50K  \n",
      "29519              45  Female           >50K  \n",
      "29520              10    Male           >50K  \n",
      "29521              40  Female          <=50K  \n",
      "29522              32  Female          <=50K  \n",
      "29523              25    Male          <=50K  \n",
      "29524              30  Female          <=50K  \n",
      "29525              40    Male          <=50K  \n",
      "29526              40  Female          <=50K  \n",
      "29527              50    Male          <=50K  \n",
      "29528              40    Male          <=50K  \n",
      "29529              11    Male          <=50K  \n",
      "29530              40    Male           >50K  \n",
      "29531              40    Male          <=50K  \n",
      "29532              40    Male           >50K  \n",
      "29533              40  Female          <=50K  \n",
      "29534              20    Male          <=50K  \n",
      "29535              40  Female           >50K  \n",
      "\n",
      "[29536 rows x 8 columns]\n"
     ]
    }
   ],
   "source": [
    "headers = ['education', 'age', 'capital-gain', 'race', 'capital-loss', 'hours-per-week', 'sex', 'classification']\n",
    "\n",
    "df = pd.read_csv('Datasets/census.data', names=headers)\n",
    "\n",
    "df[df == 0] = np.nan\n",
    "\n",
    "print(df)\n"
   ]
  },
  {
   "cell_type": "code",
   "execution_count": null,
   "metadata": {
    "collapsed": true,
    "scrolled": true
   },
   "outputs": [],
   "source": []
  },
  {
   "cell_type": "markdown",
   "metadata": {},
   "source": [
    "Excellent.\n",
    "\n",
    "Now, use basic pandas commands to look through the dataset. Get a feel for it before proceeding!\n",
    "\n",
    "Do the data-types of each column reflect the values you see when you look through the data using a text editor / spread sheet program? If you see `object` where you expect to see `int32` or `float64`, that is a good indicator that there might be a string or missing value or erroneous value in the column."
   ]
  },
  {
   "cell_type": "code",
   "execution_count": 55,
   "metadata": {},
   "outputs": [
    {
     "name": "stdout",
     "output_type": "stream",
     "text": [
      "education         object\n",
      "age                int64\n",
      "capital-gain      object\n",
      "race              object\n",
      "capital-loss       int64\n",
      "hours-per-week     int64\n",
      "sex               object\n",
      "classification    object\n",
      "dtype: object\n"
     ]
    }
   ],
   "source": [
    "print(df.dtypes)\n"
   ]
  },
  {
   "cell_type": "markdown",
   "metadata": {},
   "source": [
    "Try use `your_data_frame['your_column'].unique()` or equally, `your_data_frame.your_column.unique()` to see the unique values of each column and identify the rogue values.\n",
    "\n",
    "If you find any value that should be properly encoded to NaNs, you can convert them either using the `na_values` parameter when loading the dataframe. Or alternatively, use one of the other methods discussed in the reading."
   ]
  },
  {
   "cell_type": "code",
   "execution_count": 56,
   "metadata": {},
   "outputs": [
    {
     "name": "stdout",
     "output_type": "stream",
     "text": [
      "education ['Bachelors' 'HS-grad' '11th' 'Masters' '9th' 'Some-college' '7th-8th'\n",
      " 'Doctorate' '5th-6th' '10th' '1st-4th' 'Preschool' '12th']\n",
      "age [39 50 38 53 28 37 49 52 31 42 30 23 34 25 32 43 40 54 35 59 56 19 20 45 22\n",
      " 48 21 24 57 44 18 47 46 41 29 36 79 27 67 33 76 17 55 61 70 64 71 68 51 58\n",
      " 26 60 90 66 65 77 62 63 80 72 74 69 73 81 78 75 82 83 84 85 88 86 87]\n",
      "capital-gain ['2174' '?' '0' '14084' '5178' '5013' '2407' '14344' '15024' '7688' '34095'\n",
      " '4064' '4386' '7298' '1409' '3674' '1055' '3464' '2050' '2176' '594'\n",
      " '6849' '4101' '1111' '3411' '2597' '25236' '4650' '9386' '2463' '3103'\n",
      " '10605' '2964' '3325' '2580' '3471' '4865' '6514' '1471' '2329' '99999'\n",
      " '20051' '2105' '2885' '25124' '10520' '2202' '2961' '27828' '6767' '8614'\n",
      " '2228' '1506' '13550' '2635' '5556' '4787' '3781' '3137' '3818' '3942'\n",
      " '914' '401' '2829' '2977' '4934' '2062' '15020' '1424' '3273' '22040'\n",
      " '4416' '10566' '991' '4931' '1086' '7430' '6497' '114' '7896' '2346'\n",
      " '3432' '2907' '1151' '2414' '2290' '3418' '15831' '41310' '4508' '5455'\n",
      " '2538' '3456' '3908' '1848' '3887' '5721' '9562' '6418' '1455' '2036'\n",
      " '1831' '11678' '2936' '2993' '7443' '6360' '2354' '1797' '1173' '4687'\n",
      " '2009' '6097' '2653' '18481' '7978' '2387' '6723' '5060']\n",
      "race ['White' 'Black' 'Asian-Pac-Islander' 'Amer-Indian-Eskimo' 'Other']\n",
      "capital-loss [   0 2042 1408 1573 1902 1887 1719 1762 2179 1816 1980 1977 1876 1340 2206\n",
      " 1741 1485 1564 2339 2415 1721 1380 2051 2352 1672  653 2392 1504 2001 1590\n",
      " 1651 1628 1848 1740 2002 1579 2258 1669 1602  419 2547 2174 2205 1138 2238\n",
      "  625 2377  213 1539  880 1092 1594 3004 2231 1844  810 2559 2057 1974  974\n",
      " 1825 1735 1258 2129 2603 2282  323 4356 2444 2246 2149 1617 1648 2824 2489\n",
      " 3770 1755 3683 1668 1726 2267 2457  155 3900 2201 1944 2467 2163 2754 2472\n",
      " 1411]\n",
      "hours-per-week [40 13 16 45 50 80 30 35 60 20 44 15 25 38 43 55 48 58 32 70  2 22 56 41 28\n",
      " 24 46 12 65 42  1 36 10 34 75 98 54  8  6 19 18 72  5  9 47 37 21 64 26 14\n",
      "  4 59 33  7 52 99 53 39 62 57 78 90 66 11 49 84 17 68 27  3 85 31 51 77 63\n",
      " 23 87 88 73 89 97 94 29 96 67 82 86 91 81 76 92 61 74 95]\n",
      "sex ['Male' 'Female']\n",
      "classification ['<=50K' '>50K']\n"
     ]
    }
   ],
   "source": [
    "for i in headers:\n",
    "    print(i, df.loc[:, i].unique())\n"
   ]
  },
  {
   "cell_type": "markdown",
   "metadata": {},
   "source": [
    "Look through your data and identify any potential categorical features. Ensure you properly encode any ordinal and nominal types using the methods discussed in the chapter.\n",
    "\n",
    "Be careful! Some features can be represented as either categorical or continuous (numerical). If you ever get confused, think to yourself what makes more sense generally---to represent such features with a continuous numeric type... or a series of categories?"
   ]
  },
  {
   "cell_type": "code",
   "execution_count": 57,
   "metadata": {},
   "outputs": [
    {
     "name": "stdout",
     "output_type": "stream",
     "text": [
      "['Male' 'Female']\n",
      "['<=50K' '>50K']\n"
     ]
    }
   ],
   "source": [
    "education_ordered = ['Preschool', '1st-4th', '5th-6th', '7th-8th', '9th', '10th', '11th', '12th', 'HS-grad', 'Some-college', 'Bachelors', 'Masters', 'Doctorate']\n",
    "df.education = df.education.astype(\"category\", ordered = True, categories = education_ordered).cat.codes\n",
    "\n",
    "df = pd.get_dummies(df, columns=['race'])\n",
    "print(df.sex.unique())\n",
    "\n",
    "df = pd.get_dummies(df, columns=['sex'])\n",
    "print(df.classification.unique())\n",
    "\n",
    "df = pd.get_dummies(df, columns=['classification'])\n",
    "\n"
   ]
  },
  {
   "cell_type": "markdown",
   "metadata": {},
   "source": [
    "Lastly, print out your dataframe!"
   ]
  },
  {
   "cell_type": "code",
   "execution_count": 5,
   "metadata": {},
   "outputs": [
    {
     "name": "stdout",
     "output_type": "stream",
     "text": [
      "   education  age capital-gain   race  capital-loss  hours-per-week     sex  \\\n",
      "0  Bachelors   39         2174  White             0              40    Male   \n",
      "1  Bachelors   50            ?  White             0              13    Male   \n",
      "2    HS-grad   38            ?  White             0              40    Male   \n",
      "3       11th   53            ?  Black             0              40    Male   \n",
      "4  Bachelors   28            0  Black             0              40  Female   \n",
      "\n",
      "  classification  \n",
      "0          <=50K  \n",
      "1          <=50K  \n",
      "2          <=50K  \n",
      "3          <=50K  \n",
      "4          <=50K  \n",
      "The number of columns now in the dataframe: 8\n"
     ]
    }
   ],
   "source": [
    "print(df.head(5))\n",
    "\n",
    "print(\"The number of columns now in the dataframe:\", len(df.columns))\n"
   ]
  },
  {
   "cell_type": "code",
   "execution_count": null,
   "metadata": {
    "collapsed": true
   },
   "outputs": [],
   "source": []
  }
 ],
 "metadata": {
  "anaconda-cloud": {},
  "kernelspec": {
   "display_name": "Python 3",
   "language": "python",
   "name": "python3"
  },
  "language_info": {
   "codemirror_mode": {
    "name": "ipython",
    "version": 3
   },
   "file_extension": ".py",
   "mimetype": "text/x-python",
   "name": "python",
   "nbconvert_exporter": "python",
   "pygments_lexer": "ipython3",
   "version": "3.6.2"
  },
  "toc": {
   "colors": {
    "hover_highlight": "#DAA520",
    "running_highlight": "#FF0000",
    "selected_highlight": "#FFD700"
   },
   "moveMenuLeft": true,
   "nav_menu": {
    "height": "58px",
    "width": "251px"
   },
   "navigate_menu": true,
   "number_sections": true,
   "sideBar": true,
   "threshold": 4,
   "toc_cell": false,
   "toc_section_display": "block",
   "toc_window_display": false,
   "widenNotebook": false
  }
 },
 "nbformat": 4,
 "nbformat_minor": 2
}
