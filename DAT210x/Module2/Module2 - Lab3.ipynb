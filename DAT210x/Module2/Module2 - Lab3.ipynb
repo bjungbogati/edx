{
 "cells": [
  {
   "cell_type": "markdown",
   "metadata": {},
   "source": [
    "# DAT210x - Programming with Python for DS"
   ]
  },
  {
   "cell_type": "markdown",
   "metadata": {},
   "source": [
    "## Module2 - Lab3"
   ]
  },
  {
   "cell_type": "code",
   "execution_count": 2,
   "metadata": {
    "collapsed": true
   },
   "outputs": [],
   "source": [
    "# Import and alias Pandas\n",
    "import pandas as pd"
   ]
  },
  {
   "cell_type": "markdown",
   "metadata": {},
   "source": [
    "Often, you will want to load a dataset that is missing explicit header labels. You won't know if your data lacks headers or not unless you load it up and examine the headers to see if they make sense. Pandas by default reads in the first row of data as the header. If that isn't the case for your specific data set, you will lose your first data row. Be careful!\n",
    "\n",
    "Load up the `Servo.data` dataset. Examine the headers, and adjust them as necessary, if need be."
   ]
  },
  {
   "cell_type": "code",
   "execution_count": 32,
   "metadata": {
    "scrolled": true
   },
   "outputs": [
    {
     "name": "stdout",
     "output_type": "stream",
     "text": [
      "    motor screw  pgain  vgain     class\n",
      "0       E     E      5      4  0.281251\n",
      "1       B     D      6      5  0.506252\n",
      "2       D     D      4      3  0.356251\n",
      "3       B     A      3      2  5.500033\n",
      "4       D     B      6      5  0.356251\n",
      "5       E     C      4      3  0.806255\n",
      "6       C     A      3      2  5.100014\n",
      "7       A     A      3      2  5.700042\n",
      "8       C     A      6      5  0.768754\n",
      "9       D     A      4      1  1.031254\n",
      "10      B     E      6      5  0.468752\n",
      "11      E     C      5      4  0.393752\n",
      "12      B     C      4      1  0.281251\n",
      "13      E     C      3      1  1.100000\n",
      "14      C     C      5      4  0.506252\n",
      "15      E     B      3      2  1.899990\n",
      "16      D     C      3      1  0.900001\n",
      "17      B     C      5      4  0.468752\n",
      "18      B     B      5      4  0.543753\n",
      "19      C     E      4      2  0.206250\n",
      "20      E     D      4      3  0.918755\n",
      "21      A     D      4      3  1.106248\n",
      "22      B     C      6      5  0.468752\n",
      "23      A     C      4      2  0.581253\n",
      "24      A     B      6      5  0.581253\n",
      "25      E     C      6      5  0.393752\n",
      "26      A     A      3      1  5.300024\n",
      "27      A     E      4      2  0.468752\n",
      "28      C     D      3      2  1.899990\n",
      "29      B     B      3      2  4.299977\n",
      "..    ...   ...    ...    ...       ...\n",
      "137     A     C      5      4  0.506252\n",
      "138     B     E      4      1  0.206250\n",
      "139     C     B      3      1  3.899964\n",
      "140     E     E      4      2  0.506252\n",
      "141     B     E      4      3  1.106248\n",
      "142     A     E      3      1  3.899964\n",
      "143     A     B      4      2  0.806255\n",
      "144     A     C      3      1  3.899964\n",
      "145     E     C      3      2  1.499995\n",
      "146     B     A      3      1  5.100014\n",
      "147     D     D      3      2  1.499995\n",
      "148     A     C      3      2  4.699995\n",
      "149     E     A      4      1  0.881255\n",
      "150     B     A      5      4  0.806255\n",
      "151     E     E      3      1  0.700001\n",
      "152     D     E      3      2  0.900001\n",
      "153     E     B      3      1  1.499995\n",
      "154     A     D      4      1  0.243751\n",
      "155     A     D      3      1  4.099967\n",
      "156     E     B      4      3  0.993756\n",
      "157     A     B      3      1  4.699995\n",
      "158     D     B      4      3  0.581253\n",
      "159     A     A      5      4  0.806255\n",
      "160     D     A      3      2  2.699979\n",
      "161     C     E      6      5  0.468752\n",
      "162     B     C      3      2  4.499986\n",
      "163     B     E      3      1  3.699967\n",
      "164     C     D      4      3  0.956256\n",
      "165     A     B      3      2  4.499986\n",
      "166     A     A      6      5  0.806255\n",
      "\n",
      "[167 rows x 5 columns]\n"
     ]
    }
   ],
   "source": [
    "df = pd.read_csv('/home/bjungbogati/Desktop/edx/DAT210x/Module2/Datasets/servo.data', names = ['motor', 'screw', 'pgain', 'vgain', 'class'])\n",
    "print(df)"
   ]
  },
  {
   "cell_type": "markdown",
   "metadata": {},
   "source": [
    "Let's try experimenting with some slicing. Create a slice that contains all entries that have a vgain equal to 5. Then print the length of (# of samples in) that slice:"
   ]
  },
  {
   "cell_type": "code",
   "execution_count": 39,
   "metadata": {
    "scrolled": true
   },
   "outputs": [
    {
     "name": "stdout",
     "output_type": "stream",
     "text": [
      "    motor screw  pgain  vgain     class\n",
      "1       B     D      6      5  0.506252\n",
      "4       D     B      6      5  0.356251\n",
      "8       C     A      6      5  0.768754\n",
      "10      B     E      6      5  0.468752\n",
      "22      B     C      6      5  0.468752\n",
      "24      A     B      6      5  0.581253\n",
      "25      E     C      6      5  0.393752\n",
      "34      C     C      6      5  0.506252\n",
      "38      C     B      6      5  0.543753\n",
      "50      D     A      6      5  0.431252\n",
      "70      B     A      6      5  0.806255\n",
      "73      A     E      6      5  0.506252\n",
      "81      A     C      6      5  0.506252\n",
      "84      E     A      6      5  0.581253\n",
      "95      A     D      6      5  0.506252\n",
      "108     E     B      6      5  0.431252\n",
      "112     C     D      6      5  0.468752\n",
      "117     E     D      6      5  0.318751\n",
      "132     E     E      6      5  0.281251\n",
      "135     B     B      6      5  0.543753\n",
      "161     C     E      6      5  0.468752\n",
      "166     A     A      6      5  0.806255\n",
      "----------------------------------------\n",
      "22\n"
     ]
    }
   ],
   "source": [
    "sliceV = df[df.vgain == 5]\n",
    "print(sliceV)\n",
    "print(\"-\" * 40)\n",
    "print(len(sliceV))\n"
   ]
  },
  {
   "cell_type": "markdown",
   "metadata": {},
   "source": [
    "Create a slice that contains all entries having a motor equal to E and screw equal to E. Then print the length of (# of samples in) that slice:"
   ]
  },
  {
   "cell_type": "code",
   "execution_count": 50,
   "metadata": {},
   "outputs": [
    {
     "name": "stdout",
     "output_type": "stream",
     "text": [
      "    motor screw  pgain  vgain     class\n",
      "0       E     E      5      4  0.281251\n",
      "35      E     E      3      2  1.100000\n",
      "86      E     E      4      3  0.843755\n",
      "132     E     E      6      5  0.281251\n",
      "140     E     E      4      2  0.506252\n",
      "151     E     E      3      1  0.700001\n",
      "----------------------------------------\n",
      "6\n"
     ]
    }
   ],
   "source": [
    "sliceE = df[(df.motor == 'E') & (df.screw == 'E')]\n",
    "print(sliceE)\n",
    "print(\"-\" * 40)\n",
    "print(len(sliceE))"
   ]
  },
  {
   "cell_type": "markdown",
   "metadata": {},
   "source": [
    "Create a slice that contains all entries having a pgain equal to 4. Use one of the various methods of finding the mean vgain value for the samples in that slice. Once you've found it, print it:"
   ]
  },
  {
   "cell_type": "code",
   "execution_count": 47,
   "metadata": {},
   "outputs": [
    {
     "name": "stdout",
     "output_type": "stream",
     "text": [
      "pgain    4.000000\n",
      "vgain    2.060606\n",
      "class    0.673298\n",
      "dtype: float64\n"
     ]
    }
   ],
   "source": [
    "sliceP = df[df.pgain == 4]\n",
    "print(sliceP.mean())"
   ]
  },
  {
   "cell_type": "markdown",
   "metadata": {
    "collapsed": true
   },
   "source": [
    "Here's a bonus activity for you. See what happens when you display the `.dtypes` property of your dataframe!"
   ]
  },
  {
   "cell_type": "code",
   "execution_count": 48,
   "metadata": {},
   "outputs": [
    {
     "name": "stdout",
     "output_type": "stream",
     "text": [
      "motor     object\n",
      "screw     object\n",
      "pgain      int64\n",
      "vgain      int64\n",
      "class    float64\n",
      "dtype: object\n"
     ]
    }
   ],
   "source": [
    "print(df.dtypes)"
   ]
  },
  {
   "cell_type": "code",
   "execution_count": null,
   "metadata": {
    "collapsed": true
   },
   "outputs": [],
   "source": []
  }
 ],
 "metadata": {
  "anaconda-cloud": {},
  "kernelspec": {
   "display_name": "Python 3",
   "language": "python",
   "name": "python3"
  },
  "language_info": {
   "codemirror_mode": {
    "name": "ipython",
    "version": 3
   },
   "file_extension": ".py",
   "mimetype": "text/x-python",
   "name": "python",
   "nbconvert_exporter": "python",
   "pygments_lexer": "ipython3",
   "version": "3.6.2"
  },
  "toc": {
   "colors": {
    "hover_highlight": "#DAA520",
    "running_highlight": "#FF0000",
    "selected_highlight": "#FFD700"
   },
   "moveMenuLeft": true,
   "nav_menu": {
    "height": "58px",
    "width": "251px"
   },
   "navigate_menu": true,
   "number_sections": true,
   "sideBar": true,
   "threshold": 4,
   "toc_cell": false,
   "toc_section_display": "block",
   "toc_window_display": false,
   "widenNotebook": false
  }
 },
 "nbformat": 4,
 "nbformat_minor": 2
}
